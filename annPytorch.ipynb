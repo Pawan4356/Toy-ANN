{
 "cells": [
  {
   "cell_type": "code",
   "execution_count": 49,
   "id": "d41b0dda",
   "metadata": {},
   "outputs": [],
   "source": [
    "import pandas as pd\n",
    "from sklearn.model_selection import train_test_split\n",
    "import torch\n",
    "import torch.nn as nn\n",
    "from torch.utils.data import DataLoader, Dataset\n",
    "import torch.optim as optim\n",
    "import matplotlib.pyplot as plt"
   ]
  },
  {
   "cell_type": "markdown",
   "id": "a2fc2d94",
   "metadata": {},
   "source": [
    "### First we will create Data loader..."
   ]
  },
  {
   "cell_type": "code",
   "execution_count": 50,
   "id": "e2ad6c57",
   "metadata": {},
   "outputs": [
    {
     "data": {
      "text/plain": [
       "<torch._C.Generator at 0x19abe64b8b0>"
      ]
     },
     "execution_count": 50,
     "metadata": {},
     "output_type": "execute_result"
    }
   ],
   "source": [
    "torch.manual_seed(42) # For reproducibility"
   ]
  },
  {
   "cell_type": "code",
   "execution_count": null,
   "id": "8546cd23",
   "metadata": {},
   "outputs": [],
   "source": [
    "# Check for GPU\n",
    "# device = torch.device('cuda' if torch.cuda.is_available() else 'cpu')\n",
    "# print(f\"Using device: {device}\")"
   ]
  },
  {
   "cell_type": "code",
   "execution_count": 51,
   "id": "6746f0d6",
   "metadata": {},
   "outputs": [
    {
     "data": {
      "text/html": [
       "<div>\n",
       "<style scoped>\n",
       "    .dataframe tbody tr th:only-of-type {\n",
       "        vertical-align: middle;\n",
       "    }\n",
       "\n",
       "    .dataframe tbody tr th {\n",
       "        vertical-align: top;\n",
       "    }\n",
       "\n",
       "    .dataframe thead th {\n",
       "        text-align: right;\n",
       "    }\n",
       "</style>\n",
       "<table border=\"1\" class=\"dataframe\">\n",
       "  <thead>\n",
       "    <tr style=\"text-align: right;\">\n",
       "      <th></th>\n",
       "      <th>label</th>\n",
       "      <th>pixel1</th>\n",
       "      <th>pixel2</th>\n",
       "      <th>pixel3</th>\n",
       "      <th>pixel4</th>\n",
       "      <th>pixel5</th>\n",
       "      <th>pixel6</th>\n",
       "      <th>pixel7</th>\n",
       "      <th>pixel8</th>\n",
       "      <th>pixel9</th>\n",
       "      <th>...</th>\n",
       "      <th>pixel775</th>\n",
       "      <th>pixel776</th>\n",
       "      <th>pixel777</th>\n",
       "      <th>pixel778</th>\n",
       "      <th>pixel779</th>\n",
       "      <th>pixel780</th>\n",
       "      <th>pixel781</th>\n",
       "      <th>pixel782</th>\n",
       "      <th>pixel783</th>\n",
       "      <th>pixel784</th>\n",
       "    </tr>\n",
       "  </thead>\n",
       "  <tbody>\n",
       "    <tr>\n",
       "      <th>0</th>\n",
       "      <td>9</td>\n",
       "      <td>0</td>\n",
       "      <td>0</td>\n",
       "      <td>0</td>\n",
       "      <td>0</td>\n",
       "      <td>0</td>\n",
       "      <td>0</td>\n",
       "      <td>0</td>\n",
       "      <td>0</td>\n",
       "      <td>0</td>\n",
       "      <td>...</td>\n",
       "      <td>0</td>\n",
       "      <td>7</td>\n",
       "      <td>0</td>\n",
       "      <td>50</td>\n",
       "      <td>205</td>\n",
       "      <td>196</td>\n",
       "      <td>213</td>\n",
       "      <td>165</td>\n",
       "      <td>0</td>\n",
       "      <td>0</td>\n",
       "    </tr>\n",
       "    <tr>\n",
       "      <th>1</th>\n",
       "      <td>7</td>\n",
       "      <td>0</td>\n",
       "      <td>0</td>\n",
       "      <td>0</td>\n",
       "      <td>0</td>\n",
       "      <td>0</td>\n",
       "      <td>0</td>\n",
       "      <td>0</td>\n",
       "      <td>0</td>\n",
       "      <td>0</td>\n",
       "      <td>...</td>\n",
       "      <td>0</td>\n",
       "      <td>0</td>\n",
       "      <td>0</td>\n",
       "      <td>0</td>\n",
       "      <td>0</td>\n",
       "      <td>0</td>\n",
       "      <td>0</td>\n",
       "      <td>0</td>\n",
       "      <td>0</td>\n",
       "      <td>0</td>\n",
       "    </tr>\n",
       "    <tr>\n",
       "      <th>2</th>\n",
       "      <td>0</td>\n",
       "      <td>0</td>\n",
       "      <td>0</td>\n",
       "      <td>0</td>\n",
       "      <td>0</td>\n",
       "      <td>0</td>\n",
       "      <td>1</td>\n",
       "      <td>0</td>\n",
       "      <td>0</td>\n",
       "      <td>0</td>\n",
       "      <td>...</td>\n",
       "      <td>142</td>\n",
       "      <td>142</td>\n",
       "      <td>142</td>\n",
       "      <td>21</td>\n",
       "      <td>0</td>\n",
       "      <td>3</td>\n",
       "      <td>0</td>\n",
       "      <td>0</td>\n",
       "      <td>0</td>\n",
       "      <td>0</td>\n",
       "    </tr>\n",
       "    <tr>\n",
       "      <th>3</th>\n",
       "      <td>8</td>\n",
       "      <td>0</td>\n",
       "      <td>0</td>\n",
       "      <td>0</td>\n",
       "      <td>0</td>\n",
       "      <td>0</td>\n",
       "      <td>0</td>\n",
       "      <td>0</td>\n",
       "      <td>0</td>\n",
       "      <td>0</td>\n",
       "      <td>...</td>\n",
       "      <td>0</td>\n",
       "      <td>0</td>\n",
       "      <td>0</td>\n",
       "      <td>0</td>\n",
       "      <td>0</td>\n",
       "      <td>0</td>\n",
       "      <td>0</td>\n",
       "      <td>0</td>\n",
       "      <td>0</td>\n",
       "      <td>0</td>\n",
       "    </tr>\n",
       "    <tr>\n",
       "      <th>4</th>\n",
       "      <td>8</td>\n",
       "      <td>0</td>\n",
       "      <td>0</td>\n",
       "      <td>0</td>\n",
       "      <td>0</td>\n",
       "      <td>0</td>\n",
       "      <td>0</td>\n",
       "      <td>0</td>\n",
       "      <td>0</td>\n",
       "      <td>0</td>\n",
       "      <td>...</td>\n",
       "      <td>213</td>\n",
       "      <td>203</td>\n",
       "      <td>174</td>\n",
       "      <td>151</td>\n",
       "      <td>188</td>\n",
       "      <td>10</td>\n",
       "      <td>0</td>\n",
       "      <td>0</td>\n",
       "      <td>0</td>\n",
       "      <td>0</td>\n",
       "    </tr>\n",
       "  </tbody>\n",
       "</table>\n",
       "<p>5 rows × 785 columns</p>\n",
       "</div>"
      ],
      "text/plain": [
       "   label  pixel1  pixel2  pixel3  pixel4  pixel5  pixel6  pixel7  pixel8  \\\n",
       "0      9       0       0       0       0       0       0       0       0   \n",
       "1      7       0       0       0       0       0       0       0       0   \n",
       "2      0       0       0       0       0       0       1       0       0   \n",
       "3      8       0       0       0       0       0       0       0       0   \n",
       "4      8       0       0       0       0       0       0       0       0   \n",
       "\n",
       "   pixel9  ...  pixel775  pixel776  pixel777  pixel778  pixel779  pixel780  \\\n",
       "0       0  ...         0         7         0        50       205       196   \n",
       "1       0  ...         0         0         0         0         0         0   \n",
       "2       0  ...       142       142       142        21         0         3   \n",
       "3       0  ...         0         0         0         0         0         0   \n",
       "4       0  ...       213       203       174       151       188        10   \n",
       "\n",
       "   pixel781  pixel782  pixel783  pixel784  \n",
       "0       213       165         0         0  \n",
       "1         0         0         0         0  \n",
       "2         0         0         0         0  \n",
       "3         0         0         0         0  \n",
       "4         0         0         0         0  \n",
       "\n",
       "[5 rows x 785 columns]"
      ]
     },
     "execution_count": 51,
     "metadata": {},
     "output_type": "execute_result"
    }
   ],
   "source": [
    "df = pd.read_csv(\"FMNIST.csv\")\n",
    "df.head()"
   ]
  },
  {
   "cell_type": "code",
   "execution_count": 52,
   "id": "8671ec88",
   "metadata": {},
   "outputs": [
    {
     "data": {
      "image/png": "[encoded data removed]",
      "text/plain": [
       "<Figure size 1200x500 with 4 Axes>"
      ]
     },
     "metadata": {},
     "output_type": "display_data"
    }
   ],
   "source": [
    "fig, axes = plt.subplots(1, 4, figsize=(12, 5))\n",
    "fig.suptitle(\"4 Label Images\", fontsize=20)\n",
    "\n",
    "for i, ax in enumerate(axes.flat):\n",
    "    img = df.iloc[i, 1:].values.reshape(28, 28)\n",
    "    ax.imshow(img)\n",
    "    ax.axis('off')\n",
    "    ax.set_title(f\"Label: {df.iloc[i, 0]}\")\n",
    "\n",
    "plt.tight_layout()\n",
    "plt.show()"
   ]
  },
  {
   "cell_type": "code",
   "execution_count": 53,
   "id": "8f248701",
   "metadata": {},
   "outputs": [],
   "source": [
    "x = df.iloc[:, 1:].values # Input\n",
    "y = df.iloc[:, 0].values # Labels"
   ]
  },
  {
   "cell_type": "code",
   "execution_count": 54,
   "id": "9bd2e1f3",
   "metadata": {},
   "outputs": [],
   "source": [
    "xTrain, xTest, yTrain, yTest = train_test_split(x, y, test_size=0.2, random_state=42) # Splitting the data"
   ]
  },
  {
   "cell_type": "code",
   "execution_count": 55,
   "id": "6e4d624a",
   "metadata": {},
   "outputs": [],
   "source": [
    "# Normalizing the data (Scaling)\n",
    "xTrain = xTrain/255.0\n",
    "xTest = xTest/255.0"
   ]
  },
  {
   "cell_type": "code",
   "execution_count": 56,
   "id": "893f7fba",
   "metadata": {},
   "outputs": [],
   "source": [
    "# Creating custom Dataset\n",
    "class customDataset(Dataset):\n",
    "\n",
    "    def __init__(self, features, labels):\n",
    "        super().__init__()\n",
    "        self.features = torch.tensor(features, dtype=torch.float32)\n",
    "        self.labels = torch.tensor(labels, dtype=torch.long)\n",
    "\n",
    "    def __len__(self):\n",
    "        return len(self.features)\n",
    "    \n",
    "    def __getitem__(self, index):\n",
    "        return self.features[index], self.labels[index]"
   ]
  },
  {
   "cell_type": "code",
   "execution_count": 57,
   "id": "9b925111",
   "metadata": {},
   "outputs": [],
   "source": [
    "# Creating Training Dataset\n",
    "trainDataset = customDataset(xTrain, yTrain)\n",
    "# len(trainDataset) -> 4800\n",
    "# trainDataset[1]"
   ]
  },
  {
   "cell_type": "code",
   "execution_count": 58,
   "id": "127434c6",
   "metadata": {},
   "outputs": [],
   "source": [
    "# Create Test Dataset\n",
    "testDataset = customDataset(xTest, yTest)\n",
    "# len(testDataset)"
   ]
  },
  {
   "cell_type": "code",
   "execution_count": null,
   "id": "bd081ef2",
   "metadata": {},
   "outputs": [],
   "source": [
    "# For CPU\n",
    "trainLoader = DataLoader(trainDataset, batch_size=32, shuffle=True)\n",
    "testLoader = DataLoader(testDataset, batch_size=32, shuffle=False)\n",
    "\n",
    "# For GPU, You can even use larger batch size to optimize gpu usage\n",
    "# trainLoader = DataLoader(trainDataset, batch_size=32, shuffle=True, pin_memory=True)\n",
    "# testLoader = DataLoader(testDataset, batch_size=32, shuffle=False, pin_memory=True)"
   ]
  },
  {
   "cell_type": "code",
   "execution_count": 60,
   "id": "648fda81",
   "metadata": {},
   "outputs": [
    {
     "data": {
      "text/plain": [
       "150"
      ]
     },
     "execution_count": 60,
     "metadata": {},
     "output_type": "execute_result"
    }
   ],
   "source": [
    "len(trainLoader)"
   ]
  },
  {
   "cell_type": "markdown",
   "id": "d47f3df8",
   "metadata": {},
   "source": [
    "### Now we will write the training loop!"
   ]
  },
  {
   "cell_type": "code",
   "execution_count": 61,
   "id": "74f88804",
   "metadata": {},
   "outputs": [],
   "source": [
    "class MnistNN(nn.Module):\n",
    "\n",
    "    def __init__(self, numFeatures):\n",
    "        super().__init__()\n",
    "        self.model = nn.Sequential (\n",
    "            nn.Linear(numFeatures, 128),\n",
    "            nn.ReLU(),\n",
    "            nn.Linear(128, 64),\n",
    "            nn.ReLU(),\n",
    "            nn.Linear(64, 10) # No need for Explicit SOftmax declaration, it is inbuilt in pytorch\n",
    "        )\n",
    "\n",
    "    def forward(self, x):\n",
    "        return self.model(x)"
   ]
  },
  {
   "cell_type": "code",
   "execution_count": null,
   "id": "e72a2cd8",
   "metadata": {},
   "outputs": [],
   "source": [
    "# Set the values of epochs and learning rate\n",
    "epochs = 100\n",
    "ALPHA = 0.1\n",
    "\n",
    "# Instantiate the model\n",
    "model = MnistNN(xTrain.shape[1])\n",
    "# model = model.to(device) # For GPU\n",
    "\n",
    "# Loss function\n",
    "criterian = nn.CrossEntropyLoss()\n",
    "\n",
    "# Optimizer\n",
    "optimizer = optim.SGD(model.parameters(), lr=ALPHA)"
   ]
  },
  {
   "cell_type": "code",
   "execution_count": null,
   "id": "33597251",
   "metadata": {},
   "outputs": [
    {
     "name": "stdout",
     "output_type": "stream",
     "text": [
      "Epoch: 1 | Avg. Loss: 1.3216368504365286\n",
      "Epoch: 2 | Avg. Loss: 0.7793365408976872\n",
      "Epoch: 3 | Avg. Loss: 0.6427524624268214\n",
      "Epoch: 4 | Avg. Loss: 0.5751657460133235\n",
      "Epoch: 5 | Avg. Loss: 0.5281801898280779\n",
      "Epoch: 6 | Avg. Loss: 0.49528749763965607\n",
      "Epoch: 7 | Avg. Loss: 0.4602433065573374\n",
      "Epoch: 8 | Avg. Loss: 0.43594591185450554\n",
      "Epoch: 9 | Avg. Loss: 0.41829214841127393\n",
      "Epoch: 10 | Avg. Loss: 0.39840923100709913\n",
      "Epoch: 11 | Avg. Loss: 0.3850264552235603\n",
      "Epoch: 12 | Avg. Loss: 0.37226854811112087\n",
      "Epoch: 13 | Avg. Loss: 0.3477547161777814\n",
      "Epoch: 14 | Avg. Loss: 0.3474744820594788\n",
      "Epoch: 15 | Avg. Loss: 0.3161507587134838\n",
      "Epoch: 16 | Avg. Loss: 0.31181849469741185\n",
      "Epoch: 17 | Avg. Loss: 0.29523012270530063\n",
      "Epoch: 18 | Avg. Loss: 0.28590739210446675\n",
      "Epoch: 19 | Avg. Loss: 0.275126261562109\n",
      "Epoch: 20 | Avg. Loss: 0.26529103291531403\n",
      "Epoch: 21 | Avg. Loss: 0.2628463419278463\n",
      "Epoch: 22 | Avg. Loss: 0.24405769457419713\n",
      "Epoch: 23 | Avg. Loss: 0.24060092940926553\n",
      "Epoch: 24 | Avg. Loss: 0.22429207156101863\n",
      "Epoch: 25 | Avg. Loss: 0.2227647216618061\n",
      "Epoch: 26 | Avg. Loss: 0.2105420989294847\n",
      "Epoch: 27 | Avg. Loss: 0.2172745383779208\n",
      "Epoch: 28 | Avg. Loss: 0.21065880060195924\n",
      "Epoch: 29 | Avg. Loss: 0.18606356712679067\n",
      "Epoch: 30 | Avg. Loss: 0.1850906887402137\n",
      "Epoch: 31 | Avg. Loss: 0.18461576296637455\n",
      "Epoch: 32 | Avg. Loss: 0.18995513454079627\n",
      "Epoch: 33 | Avg. Loss: 0.1774178000787894\n",
      "Epoch: 34 | Avg. Loss: 0.18643784910440445\n",
      "Epoch: 35 | Avg. Loss: 0.159508093893528\n",
      "Epoch: 36 | Avg. Loss: 0.168159963923196\n",
      "Epoch: 37 | Avg. Loss: 0.1819157969330748\n",
      "Epoch: 38 | Avg. Loss: 0.1552185630053282\n",
      "Epoch: 39 | Avg. Loss: 0.14511785646279654\n",
      "Epoch: 40 | Avg. Loss: 0.13799147139691437\n",
      "Epoch: 41 | Avg. Loss: 0.14918039026359717\n",
      "Epoch: 42 | Avg. Loss: 0.14122951357935865\n",
      "Epoch: 43 | Avg. Loss: 0.13055907228340705\n",
      "Epoch: 44 | Avg. Loss: 0.12853008948887387\n",
      "Epoch: 45 | Avg. Loss: 0.11572381774584452\n",
      "Epoch: 46 | Avg. Loss: 0.11700213381399711\n",
      "Epoch: 47 | Avg. Loss: 0.11261874244237939\n",
      "Epoch: 48 | Avg. Loss: 0.11154219067345063\n",
      "Epoch: 49 | Avg. Loss: 0.10485366700217127\n",
      "Epoch: 50 | Avg. Loss: 0.10580117091536521\n",
      "Epoch: 51 | Avg. Loss: 0.09133239514039208\n",
      "Epoch: 52 | Avg. Loss: 0.0880018128392597\n",
      "Epoch: 53 | Avg. Loss: 0.1086386122306188\n",
      "Epoch: 54 | Avg. Loss: 0.09915895639763524\n",
      "Epoch: 55 | Avg. Loss: 0.0759032006872197\n",
      "Epoch: 56 | Avg. Loss: 0.07997298056880633\n",
      "Epoch: 57 | Avg. Loss: 0.0792524894264837\n",
      "Epoch: 58 | Avg. Loss: 0.10593325234328707\n",
      "Epoch: 59 | Avg. Loss: 0.08662297075614334\n",
      "Epoch: 60 | Avg. Loss: 0.0829435555341964\n",
      "Epoch: 61 | Avg. Loss: 0.07585245956356326\n",
      "Epoch: 62 | Avg. Loss: 0.054505357844755055\n",
      "Epoch: 63 | Avg. Loss: 0.08691970619062582\n",
      "Epoch: 64 | Avg. Loss: 0.06802276545514663\n",
      "Epoch: 65 | Avg. Loss: 0.06129796388093382\n",
      "Epoch: 66 | Avg. Loss: 0.07808710896487658\n",
      "Epoch: 67 | Avg. Loss: 0.054012590718145174\n",
      "Epoch: 68 | Avg. Loss: 0.04683645642672976\n",
      "Epoch: 69 | Avg. Loss: 0.0483324811529989\n",
      "Epoch: 70 | Avg. Loss: 0.05887759159784764\n",
      "Epoch: 71 | Avg. Loss: 0.04931690172680343\n",
      "Epoch: 72 | Avg. Loss: 0.08068582116005321\n",
      "Epoch: 73 | Avg. Loss: 0.043862918382510545\n",
      "Epoch: 74 | Avg. Loss: 0.03997989228538548\n",
      "Epoch: 75 | Avg. Loss: 0.037606675908900794\n",
      "Epoch: 76 | Avg. Loss: 0.04071660718414932\n",
      "Epoch: 77 | Avg. Loss: 0.0778444116054258\n",
      "Epoch: 78 | Avg. Loss: 0.038752594885105886\n",
      "Epoch: 79 | Avg. Loss: 0.02771025151324769\n",
      "Epoch: 80 | Avg. Loss: 0.063771247001132\n",
      "Epoch: 81 | Avg. Loss: 0.049618830415420236\n",
      "Epoch: 82 | Avg. Loss: 0.03809469958922515\n",
      "Epoch: 83 | Avg. Loss: 0.019732585730186353\n",
      "Epoch: 84 | Avg. Loss: 0.03563300462129215\n",
      "Epoch: 85 | Avg. Loss: 0.018534187200906067\n",
      "Epoch: 86 | Avg. Loss: 0.021223952982691117\n",
      "Epoch: 87 | Avg. Loss: 0.015008828896679916\n",
      "Epoch: 88 | Avg. Loss: 0.014286062632260534\n",
      "Epoch: 89 | Avg. Loss: 0.02614511429138171\n",
      "Epoch: 90 | Avg. Loss: 0.05704822917236015\n",
      "Epoch: 91 | Avg. Loss: 0.03419467618921772\n",
      "Epoch: 92 | Avg. Loss: 0.015426746377488598\n",
      "Epoch: 93 | Avg. Loss: 0.018823593602282928\n",
      "Epoch: 94 | Avg. Loss: 0.012413528047812481\n",
      "Epoch: 95 | Avg. Loss: 0.010459258086630143\n",
      "Epoch: 96 | Avg. Loss: 0.011930723429929154\n",
      "Epoch: 97 | Avg. Loss: 0.03904548791431201\n",
      "Epoch: 98 | Avg. Loss: 0.0517756415096422\n",
      "Epoch: 99 | Avg. Loss: 0.017615713106739955\n",
      "Epoch: 100 | Avg. Loss: 0.007956892265356145\n"
     ]
    }
   ],
   "source": [
    "# Trainig Loop\n",
    "\n",
    "for epoch in range(epochs):\n",
    "    totalLoss = 0\n",
    "    for batchFeatures, batchLabels in trainLoader:\n",
    "        # move data to gpu\n",
    "        # batch_features, batch_labels = batch_features.to(device), batch_labels.to(device)\n",
    "        outputs = model(batchFeatures) # Forward pass\n",
    "        loss = criterian(outputs, batchLabels) # Loss\n",
    "        totalLoss += loss.item()\n",
    "        optimizer.zero_grad() # Flushing Gradients\n",
    "        loss.backward() # Back Pass\n",
    "        optimizer.step() # Update\n",
    "    print(f\"Epoch: {epoch + 1} | Avg. Loss: {totalLoss/len(trainLoader)}\")"
   ]
  },
  {
   "cell_type": "markdown",
   "id": "3e8c6fd3",
   "metadata": {},
   "source": [
    "### Model Evaluation :{}"
   ]
  },
  {
   "cell_type": "code",
   "execution_count": null,
   "id": "8ef88662",
   "metadata": {},
   "outputs": [
    {
     "data": {
      "text/plain": [
       "MnistNN(\n",
       "  (model): Sequential(\n",
       "    (0): Linear(in_features=784, out_features=128, bias=True)\n",
       "    (1): ReLU()\n",
       "    (2): Linear(in_features=128, out_features=64, bias=True)\n",
       "    (3): ReLU()\n",
       "    (4): Linear(in_features=64, out_features=10, bias=True)\n",
       "  )\n",
       ")"
      ]
     },
     "execution_count": 64,
     "metadata": {},
     "output_type": "execute_result"
    }
   ],
   "source": [
    "# Set model to eval model\n",
    "model.eval()"
   ]
  },
  {
   "cell_type": "code",
   "execution_count": null,
   "id": "348447e9",
   "metadata": {},
   "outputs": [
    {
     "name": "stdout",
     "output_type": "stream",
     "text": [
      "Accuracy is 0.8258333333333333\n"
     ]
    }
   ],
   "source": [
    "# Evaluation Code\n",
    "total = 0\n",
    "correct = 0\n",
    "\n",
    "with torch.no_grad():\n",
    "    for batchFeatures, batchLabels in testLoader:\n",
    "        # move data to gpu\n",
    "        # batch_features, batch_labels = batch_features.to(device), batch_labels.to(device)\n",
    "        outputs = model(batchFeatures)\n",
    "        for index in range(len(outputs)):\n",
    "            predictedLabel = torch.max(outputs[index], 0)[1]\n",
    "            actualLabel = batchLabels[index]\n",
    "            if predictedLabel == actualLabel:\n",
    "                correct = correct + 1\n",
    "            total = total + 1\n",
    "\n",
    "Accuracy = correct / total\n",
    "print(f\"Accuracy is {Accuracy}\")"
   ]
  }
 ],
 "metadata": {
  "kernelspec": {
   "display_name": ".venv",
   "language": "python",
   "name": "python3"
  },
  "language_info": {
   "codemirror_mode": {
    "name": "ipython",
    "version": 3
   },
   "file_extension": ".py",
   "mimetype": "text/x-python",
   "name": "python",
   "nbconvert_exporter": "python",
   "pygments_lexer": "ipython3",
   "version": "3.13.7"
  }
 },
 "nbformat": 4,
 "nbformat_minor": 5
}
